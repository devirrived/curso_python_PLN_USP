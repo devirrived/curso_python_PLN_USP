{
  "nbformat": 4,
  "nbformat_minor": 0,
  "metadata": {
    "colab": {
      "name": "Exercicio12_Aula3_Arquivos.ipynb",
      "provenance": [],
      "collapsed_sections": [],
      "mount_file_id": "1zKMdtaF10cS_trm7tu1ZFPKhVWnezRDk",
      "authorship_tag": "ABX9TyNvI8f844rMAnKGurkrS7Pd",
      "include_colab_link": true
    },
    "kernelspec": {
      "name": "python3",
      "display_name": "Python 3"
    },
    "language_info": {
      "name": "python"
    }
  },
  "cells": [
    {
      "cell_type": "markdown",
      "metadata": {
        "id": "view-in-github",
        "colab_type": "text"
      },
      "source": [
        "<a href=\"https://colab.research.google.com/github/devirrived/curso_python_PLN_USP/blob/main/03_Range.ipynb\" target=\"_parent\"><img src=\"https://colab.research.google.com/assets/colab-badge.svg\" alt=\"Open In Colab\"/></a>"
      ]
    },
    {
      "cell_type": "code",
      "metadata": {
        "colab": {
          "base_uri": "https://localhost:8080/"
        },
        "id": "UaHwEWpqhJJC",
        "outputId": "59c329fb-2e42-47ac-d50b-0ab64bcbc4c7"
      },
      "source": [
        "cocorico = open(\"/content/drive/MyDrive/arquivos_txt/teste1.TXT\", 'w')\n",
        "\n",
        "cocorico.write(\"Numeros de 1 a 10\\n\")\n",
        "for i in range(1, 11):\n",
        "  cocorico.write(str(i))\n",
        "cocorico.close()\n",
        "\n",
        "cocorico = open(\"/content/drive/MyDrive/arquivos_txt/teste1.TXT\", 'r')\n",
        "print(cocorico.read())\n",
        "\n",
        "cocorico = open(\"/content/drive/MyDrive/arquivos_txt/teste1.TXT\", 'w')\n",
        "\n",
        "cocorico.write(\"Numeros de 11 a 20\\n\")\n",
        "for i in range(11, 21):\n",
        "  cocorico.write(str(i)+'\\n')\n",
        "cocorico.close()\n",
        "\n",
        "cocorico = open(\"/content/drive/MyDrive/arquivos_txt/teste1.TXT\", 'r')\n",
        "print(cocorico.read())\n",
        "\n",
        "cocorico = open(\"/content/drive/MyDrive/arquivos_txt/teste1.TXT\", 'w')\n",
        "\n",
        "cocorico.write(\"Numeros de 21 a 30\\n\")\n",
        "for i in range(11, 21):\n",
        "  cocorico.write(str(i)+'\\n')\n",
        "cocorico.close()\n",
        "\n",
        "cocorico = open(\"/content/drive/MyDrive/arquivos_txt/teste1.TXT\", 'a')\n",
        "\n",
        "for i in range(21, 31):\n",
        "  cocorico.write(str(i)+'\\n')\n",
        "cocorico.close()\n",
        "\n",
        "cocorico = open(\"/content/drive/MyDrive/arquivos_txt/teste1.TXT\", 'r')\n",
        "print(cocorico.read())\n",
        "cocorico.close()"
      ],
      "execution_count": null,
      "outputs": [
        {
          "output_type": "stream",
          "name": "stdout",
          "text": [
            "Numeros de 1 a 10\n",
            "12345678910\n",
            "Numeros de 11 a 20\n",
            "11\n",
            "12\n",
            "13\n",
            "14\n",
            "15\n",
            "16\n",
            "17\n",
            "18\n",
            "19\n",
            "20\n",
            "\n",
            "Numeros de 21 a 30\n",
            "11\n",
            "12\n",
            "13\n",
            "14\n",
            "15\n",
            "16\n",
            "17\n",
            "18\n",
            "19\n",
            "20\n",
            "21\n",
            "22\n",
            "23\n",
            "24\n",
            "25\n",
            "26\n",
            "27\n",
            "28\n",
            "29\n",
            "30\n",
            "\n"
          ]
        }
      ]
    },
    {
      "cell_type": "code",
      "metadata": {
        "id": "5qxWBk-L-azg"
      },
      "source": [
        "abor = open(\"/content/drive/MyDrive/arquivos_text/amor.TXT\", 'w')\n"
      ],
      "execution_count": null,
      "outputs": []
    },
    {
      "cell_type": "code",
      "metadata": {
        "colab": {
          "base_uri": "https://localhost:8080/"
        },
        "id": "Q4wkKz4r3lJR",
        "outputId": "9d623945-2d97-4463-cbd4-6d9bebea3edf"
      },
      "source": [
        "dados = open(\"/content/drive/MyDrive/arquivos_txt/qbdata.txt\", 'r')\n",
        "lista = dados.read()\n",
        "print(lista)"
      ],
      "execution_count": null,
      "outputs": [
        {
          "output_type": "stream",
          "name": "stdout",
          "text": [
            "\n"
          ]
        }
      ]
    },
    {
      "cell_type": "code",
      "metadata": {
        "colab": {
          "base_uri": "https://localhost:8080/",
          "height": 217
        },
        "id": "I-aCtDhn5t3p",
        "outputId": "2672269f-bfba-4d64-f2c8-037fca9dffd9"
      },
      "source": [
        "timao3 = open(\"/content/drive/MyDrive/arquivos_txt/listinha3.txt\", 'w')\n",
        "listinhaa = timao[1:-2:]\n",
        "print(timao3.read())\n",
        "timao3.close()"
      ],
      "execution_count": null,
      "outputs": [
        {
          "output_type": "error",
          "ename": "TypeError",
          "evalue": "ignored",
          "traceback": [
            "\u001b[0;31m---------------------------------------------------------------------------\u001b[0m",
            "\u001b[0;31mTypeError\u001b[0m                                 Traceback (most recent call last)",
            "\u001b[0;32m<ipython-input-29-a1e77e39365a>\u001b[0m in \u001b[0;36m<module>\u001b[0;34m()\u001b[0m\n\u001b[1;32m      1\u001b[0m \u001b[0mtimao3\u001b[0m \u001b[0;34m=\u001b[0m \u001b[0mopen\u001b[0m\u001b[0;34m(\u001b[0m\u001b[0;34m\"/content/drive/MyDrive/arquivos_txt/listinha3.txt\"\u001b[0m\u001b[0;34m,\u001b[0m \u001b[0;34m'w'\u001b[0m\u001b[0;34m)\u001b[0m\u001b[0;34m\u001b[0m\u001b[0;34m\u001b[0m\u001b[0m\n\u001b[0;32m----> 2\u001b[0;31m \u001b[0mlistinhaa\u001b[0m \u001b[0;34m=\u001b[0m \u001b[0mtimao\u001b[0m\u001b[0;34m[\u001b[0m\u001b[0;36m1\u001b[0m\u001b[0;34m:\u001b[0m\u001b[0;34m-\u001b[0m\u001b[0;36m2\u001b[0m\u001b[0;34m:\u001b[0m\u001b[0;34m]\u001b[0m\u001b[0;34m\u001b[0m\u001b[0;34m\u001b[0m\u001b[0m\n\u001b[0m\u001b[1;32m      3\u001b[0m \u001b[0mprint\u001b[0m\u001b[0;34m(\u001b[0m\u001b[0mtimao3\u001b[0m\u001b[0;34m.\u001b[0m\u001b[0mread\u001b[0m\u001b[0;34m(\u001b[0m\u001b[0;34m)\u001b[0m\u001b[0;34m)\u001b[0m\u001b[0;34m\u001b[0m\u001b[0;34m\u001b[0m\u001b[0m\n\u001b[1;32m      4\u001b[0m \u001b[0mtimao3\u001b[0m\u001b[0;34m.\u001b[0m\u001b[0mclose\u001b[0m\u001b[0;34m(\u001b[0m\u001b[0;34m)\u001b[0m\u001b[0;34m\u001b[0m\u001b[0;34m\u001b[0m\u001b[0m\n",
            "\u001b[0;31mTypeError\u001b[0m: '_io.TextIOWrapper' object is not subscriptable"
          ]
        }
      ]
    }
  ]
}