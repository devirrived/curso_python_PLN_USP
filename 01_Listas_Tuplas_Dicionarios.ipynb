{
  "nbformat": 4,
  "nbformat_minor": 0,
  "metadata": {
    "colab": {
      "name": "Aula01e02.ipynb",
      "provenance": [],
      "collapsed_sections": [],
      "authorship_tag": "ABX9TyOxcc9lMs21KmtQaHRFjlJL",
      "include_colab_link": true
    },
    "kernelspec": {
      "name": "python3",
      "display_name": "Python 3"
    },
    "language_info": {
      "name": "python"
    }
  },
  "cells": [
    {
      "cell_type": "markdown",
      "metadata": {
        "id": "view-in-github",
        "colab_type": "text"
      },
      "source": [
        "<a href=\"https://colab.research.google.com/github/devirrived/curso_python_PLN_USP/blob/main/01_Listas_Tuplas_Dicionarios.ipynb\" target=\"_parent\"><img src=\"https://colab.research.google.com/assets/colab-badge.svg\" alt=\"Open In Colab\"/></a>"
      ]
    },
    {
      "cell_type": "code",
      "metadata": {
        "colab": {
          "base_uri": "https://localhost:8080/"
        },
        "id": "TmSX1BFD4FwF",
        "outputId": "b01fd3e9-8dd4-4c16-c728-980f7db0abc4"
      },
      "source": [
        "print(\"Hello, Dri\")"
      ],
      "execution_count": null,
      "outputs": [
        {
          "output_type": "stream",
          "name": "stdout",
          "text": [
            "Hello, Dri\n"
          ]
        }
      ]
    },
    {
      "cell_type": "markdown",
      "metadata": {
        "id": "zzt0tZfL6KT-"
      },
      "source": [
        "Cool cool cool - anotações clicando ali no + Texto //\n",
        "ctrl + Enter roda o código"
      ]
    },
    {
      "cell_type": "markdown",
      "metadata": {
        "id": "6udEfQCY7fyW"
      },
      "source": [
        "Ctrl + M + B = adicionar novo (linha de) código // Alt + enter = roda o código e já add um novo"
      ]
    },
    {
      "cell_type": "code",
      "metadata": {
        "colab": {
          "base_uri": "https://localhost:8080/"
        },
        "id": "ZexKUG976OmG",
        "outputId": "eaa9acaa-6b99-4a47-8666-93576cb80b7b"
      },
      "source": [
        "print(\"Frase 1\")\n",
        "print(\"Frase 2\")"
      ],
      "execution_count": null,
      "outputs": [
        {
          "output_type": "stream",
          "name": "stdout",
          "text": [
            "Frase 1\n",
            "Frase 2\n"
          ]
        }
      ]
    },
    {
      "cell_type": "code",
      "metadata": {
        "colab": {
          "base_uri": "https://localhost:8080/",
          "height": 231
        },
        "id": "oy86obPmrigg",
        "outputId": "cdcf6110-e307-44ac-a23d-2a141ec3bafe"
      },
      "source": [
        "lista1 = list(range(5))\n",
        "lista2 = [0,1,2,3,4]\n",
        "print(lista1)\n",
        "print(lista2)"
      ],
      "execution_count": null,
      "outputs": [
        {
          "output_type": "stream",
          "name": "stdout",
          "text": [
            "[0, 1, 2, 3, 4]\n",
            "[0, 1, 2, 3, 4]\n"
          ]
        },
        {
          "output_type": "error",
          "ename": "NameError",
          "evalue": "ignored",
          "traceback": [
            "\u001b[0;31m---------------------------------------------------------------------------\u001b[0m",
            "\u001b[0;31mNameError\u001b[0m                                 Traceback (most recent call last)",
            "\u001b[0;32m<ipython-input-3-aa56921e3a36>\u001b[0m in \u001b[0;36m<module>\u001b[0;34m()\u001b[0m\n\u001b[1;32m      5\u001b[0m \u001b[0;34m\u001b[0m\u001b[0m\n\u001b[1;32m      6\u001b[0m \u001b[0mlista1\u001b[0m\u001b[0;34m.\u001b[0m\u001b[0mreverse\u001b[0m\u001b[0;34m\u001b[0m\u001b[0;34m\u001b[0m\u001b[0m\n\u001b[0;32m----> 7\u001b[0;31m \u001b[0mprint\u001b[0m\u001b[0;34m(\u001b[0m\u001b[0mlist1\u001b[0m\u001b[0;34m)\u001b[0m\u001b[0;34m\u001b[0m\u001b[0;34m\u001b[0m\u001b[0m\n\u001b[0m",
            "\u001b[0;31mNameError\u001b[0m: name 'list1' is not defined"
          ]
        }
      ]
    },
    {
      "cell_type": "markdown",
      "metadata": {
        "id": "z5TEtS3Bz_aH"
      },
      "source": [
        "^ sinônimos, duas formas de criar lista // lembrando que Listas são [mutáveis] e Tuples são (imutáveis)"
      ]
    },
    {
      "cell_type": "code",
      "metadata": {
        "colab": {
          "base_uri": "https://localhost:8080/"
        },
        "id": "jWtvrFQd3Pz2",
        "outputId": "f997f3cc-1918-47b0-afc4-c100052269ae"
      },
      "source": [
        "lista1.reverse()\n",
        "print(lista1)"
      ],
      "execution_count": null,
      "outputs": [
        {
          "output_type": "stream",
          "name": "stdout",
          "text": [
            "[4, 3, 2, 1, 0]\n"
          ]
        }
      ]
    },
    {
      "cell_type": "code",
      "metadata": {
        "colab": {
          "base_uri": "https://localhost:8080/"
        },
        "id": "Cubo4SReIBoN",
        "outputId": "c50925b0-0bd7-471c-951e-2bad082080c1"
      },
      "source": [
        "l1 = list(range(10))\n",
        "print(l1)\n",
        "l1.append(6)\n",
        "print(l1)\n",
        "l1.insert(2,7)\n",
        "print(l1)\n",
        "l1.remove(3)\n",
        "print(l1)\n",
        "l1.append(4)\n",
        "print(l1)\n",
        "l1.count(4)"
      ],
      "execution_count": null,
      "outputs": [
        {
          "output_type": "stream",
          "name": "stdout",
          "text": [
            "[0, 1, 2, 3, 4, 5, 6, 7, 8, 9]\n",
            "[0, 1, 2, 3, 4, 5, 6, 7, 8, 9, 6]\n",
            "[0, 1, 7, 2, 3, 4, 5, 6, 7, 8, 9, 6]\n",
            "[0, 1, 7, 2, 4, 5, 6, 7, 8, 9, 6]\n",
            "[0, 1, 7, 2, 4, 5, 6, 7, 8, 9, 6, 4]\n"
          ]
        },
        {
          "output_type": "execute_result",
          "data": {
            "text/plain": [
              "2"
            ]
          },
          "metadata": {},
          "execution_count": 15
        }
      ]
    },
    {
      "cell_type": "code",
      "metadata": {
        "colab": {
          "base_uri": "https://localhost:8080/"
        },
        "id": "lUEp31wRIbhG",
        "outputId": "b0226bb6-cc6c-4ca1-a6d7-b2aef1cacea1"
      },
      "source": [
        "l1 = list(range(10))\n",
        "l1[0:3]\n",
        "l1[3:7]\n",
        "l1[1:9:3]\n",
        "l1[9:6:-1]\n",
        "l1[0:-4]\n",
        "\n",
        "l1[6]\n",
        "\n",
        "l1 = list(range(10))\n",
        "l1[7] = 12\n",
        "print(l1)\n",
        "\n",
        "l1.reverse()\n",
        "print(l1)\n",
        "\n",
        "l1.sort()\n",
        "print(l1)"
      ],
      "execution_count": null,
      "outputs": [
        {
          "output_type": "stream",
          "name": "stdout",
          "text": [
            "[0, 1, 2, 3, 4, 5, 6, 12, 8, 9]\n",
            "[9, 8, 12, 6, 5, 4, 3, 2, 1, 0]\n",
            "[0, 1, 2, 3, 4, 5, 6, 8, 9, 12]\n"
          ]
        }
      ]
    },
    {
      "cell_type": "code",
      "metadata": {
        "colab": {
          "base_uri": "https://localhost:8080/"
        },
        "id": "TlohLZW5OT7O",
        "outputId": "56719fd2-b5b2-4b87-8b4e-d219549eee42"
      },
      "source": [
        "tupla = tuple(range(10))\n",
        "print(tupla)\n",
        "\n",
        "tupla[5]"
      ],
      "execution_count": null,
      "outputs": [
        {
          "output_type": "stream",
          "name": "stdout",
          "text": [
            "(0, 1, 2, 3, 4, 5, 6, 7, 8, 9)\n"
          ]
        },
        {
          "output_type": "execute_result",
          "data": {
            "text/plain": [
              "5"
            ]
          },
          "metadata": {},
          "execution_count": 51
        }
      ]
    },
    {
      "cell_type": "code",
      "metadata": {
        "colab": {
          "base_uri": "https://localhost:8080/"
        },
        "id": "PPoEQ0qyOzCD",
        "outputId": "09d79e6f-f036-4ad6-dcd6-70f3aef12aea"
      },
      "source": [
        "dic = {}\n",
        "dic[\"água\"] = \"blue\"\n",
        "dic[\"ar\"] = \"white\"\n",
        "dic[\"terra\"] = \"brown\"\n",
        "dic[\"fogo\"] = \"red\"\n",
        "dic[\"especial\"] = \"transparent\"\n",
        "\n",
        "print(dic.keys())\n",
        "\n",
        "print(dic.values())\n",
        "\n",
        "print(dic.items())\n",
        "\n",
        "print(dic)\n",
        "\n",
        "for chave, valor in dic.items():\n",
        "  print(chave, \"tem a cor\", valor)"
      ],
      "execution_count": null,
      "outputs": [
        {
          "output_type": "stream",
          "name": "stdout",
          "text": [
            "dict_keys(['água', 'ar', 'terra', 'fogo', 'especial'])\n",
            "dict_values(['blue', 'white', 'brown', 'red', 'transparent'])\n",
            "dict_items([('água', 'blue'), ('ar', 'white'), ('terra', 'brown'), ('fogo', 'red'), ('especial', 'transparent')])\n",
            "{'água': 'blue', 'ar': 'white', 'terra': 'brown', 'fogo': 'red', 'especial': 'transparent'}\n",
            "água tem a cor blue\n",
            "ar tem a cor white\n",
            "terra tem a cor brown\n",
            "fogo tem a cor red\n",
            "especial tem a cor transparent\n"
          ]
        }
      ]
    }
  ]
}