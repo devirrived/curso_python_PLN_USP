{
  "nbformat": 4,
  "nbformat_minor": 0,
  "metadata": {
    "colab": {
      "name": "Exercicios_1_Aula_4.ipynb",
      "provenance": [],
      "authorship_tag": "ABX9TyMUAgLOvr6j3t6F++OLLoS+",
      "include_colab_link": true
    },
    "kernelspec": {
      "name": "python3",
      "display_name": "Python 3"
    },
    "language_info": {
      "name": "python"
    }
  },
  "cells": [
    {
      "cell_type": "markdown",
      "metadata": {
        "id": "view-in-github",
        "colab_type": "text"
      },
      "source": [
        "<a href=\"https://colab.research.google.com/github/devirrived/curso_python_PLN_USP/blob/main/04_Exercicios1_len_join_split.ipynb\" target=\"_parent\"><img src=\"https://colab.research.google.com/assets/colab-badge.svg\" alt=\"Open In Colab\"/></a>"
      ]
    },
    {
      "cell_type": "code",
      "metadata": {
        "colab": {
          "base_uri": "https://localhost:8080/",
          "height": 72
        },
        "id": "DS4OtG7uRR7o",
        "outputId": "ff49d781-e356-4644-e1ef-6fab113e5860"
      },
      "source": [
        "frase = \"instituto de ciências matemáticas e de computação\"\n",
        "lugar = \" usp\"\n",
        "ano = \" 2021\"\n",
        "print(frase + lugar + ano)\n",
        "\n",
        "frase_completa = frase + lugar + ano\n",
        "print(len(frase_completa))\n",
        "\n",
        "frase_completa.upper()"
      ],
      "execution_count": null,
      "outputs": [
        {
          "output_type": "stream",
          "name": "stdout",
          "text": [
            "instituto de ciências matemáticas e de computação usp 2021\n",
            "58\n"
          ]
        },
        {
          "output_type": "execute_result",
          "data": {
            "application/vnd.google.colaboratory.intrinsic+json": {
              "type": "string"
            },
            "text/plain": [
              "'INSTITUTO DE CIÊNCIAS MATEMÁTICAS E DE COMPUTAÇÃO USP 2021'"
            ]
          },
          "metadata": {},
          "execution_count": 13
        }
      ]
    },
    {
      "cell_type": "code",
      "metadata": {
        "colab": {
          "base_uri": "https://localhost:8080/",
          "height": 35
        },
        "id": "ZEfuXUI7TPhN",
        "outputId": "a503ff50-7d65-43c3-d6d8-3d8bb3c6e1ce"
      },
      "source": [
        "frase_completa.lower()"
      ],
      "execution_count": null,
      "outputs": [
        {
          "output_type": "execute_result",
          "data": {
            "application/vnd.google.colaboratory.intrinsic+json": {
              "type": "string"
            },
            "text/plain": [
              "'instituto de ciências matemáticas e de computação usp 2021'"
            ]
          },
          "metadata": {},
          "execution_count": 12
        }
      ]
    },
    {
      "cell_type": "code",
      "metadata": {
        "colab": {
          "base_uri": "https://localhost:8080/",
          "height": 72
        },
        "id": "AZob2dQdTYug",
        "outputId": "32444284-a734-4586-e0b0-5615eddf1e1b"
      },
      "source": [
        "frase_completa = \"  instituto de ciências matemáticas e de computação usp 2021\"\n",
        "print(frase_completa)\n",
        "\n",
        "frase_final = frase_completa.strip()\n",
        "print(frase_final)\n",
        "\n",
        "frase_final.replace(\"a\",\"x\")"
      ],
      "execution_count": null,
      "outputs": [
        {
          "output_type": "stream",
          "name": "stdout",
          "text": [
            "  instituto de ciências matemáticas e de computação usp 2021\n",
            "instituto de ciências matemáticas e de computação usp 2021\n"
          ]
        },
        {
          "output_type": "execute_result",
          "data": {
            "application/vnd.google.colaboratory.intrinsic+json": {
              "type": "string"
            },
            "text/plain": [
              "'instituto de ciêncixs mxtemáticxs e de computxção usp 2021'"
            ]
          },
          "metadata": {},
          "execution_count": 24
        }
      ]
    },
    {
      "cell_type": "code",
      "metadata": {
        "colab": {
          "base_uri": "https://localhost:8080/"
        },
        "id": "sZUoXZe2T0HM",
        "outputId": "0687f550-c13b-4673-8604-eaec5842d700"
      },
      "source": [
        "palavras = frase_final.split()\n",
        "print(palavras)\n",
        "\n",
        "len(palavras)"
      ],
      "execution_count": null,
      "outputs": [
        {
          "output_type": "stream",
          "name": "stdout",
          "text": [
            "['instituto', 'de', 'ciências', 'matemáticas', 'e', 'de', 'computação', 'usp', '2021']\n"
          ]
        },
        {
          "output_type": "execute_result",
          "data": {
            "text/plain": [
              "9"
            ]
          },
          "metadata": {},
          "execution_count": 30
        }
      ]
    },
    {
      "cell_type": "code",
      "metadata": {
        "colab": {
          "base_uri": "https://localhost:8080/"
        },
        "id": "9m3mscc8VDiT",
        "outputId": "f5ddf6ed-91bc-485a-855b-0863b6ecf49a"
      },
      "source": [
        "frase_reunida = \" \".join(palavras)\n",
        "print(frase_reunida)\n",
        "\n",
        "frase_reunida2 = \"/\".join(palavras)\n",
        "print(frase_reunida2)"
      ],
      "execution_count": null,
      "outputs": [
        {
          "output_type": "stream",
          "name": "stdout",
          "text": [
            "instituto de ciências matemáticas e de computação usp 2021\n",
            "instituto/de/ciências/matemáticas/e/de/computação/usp/2021\n"
          ]
        }
      ]
    },
    {
      "cell_type": "code",
      "metadata": {
        "colab": {
          "base_uri": "https://localhost:8080/"
        },
        "id": "c7LhWSevUtAS",
        "outputId": "c336783d-98e7-4968-9a2b-75eba1c6b992"
      },
      "source": [
        "print(frase_final.split(\"de\"))\n",
        "len(frase_final.split(\"de\"))"
      ],
      "execution_count": null,
      "outputs": [
        {
          "output_type": "stream",
          "name": "stdout",
          "text": [
            "['instituto ', ' ciências matemáticas e ', ' computação usp 2021']\n"
          ]
        },
        {
          "output_type": "execute_result",
          "data": {
            "text/plain": [
              "3"
            ]
          },
          "metadata": {},
          "execution_count": 33
        }
      ]
    }
  ]
}